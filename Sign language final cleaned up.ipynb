{
 "cells": [
  {
   "cell_type": "markdown",
   "id": "6b44de4d",
   "metadata": {},
   "source": [
    "## Install dependencies ##"
   ]
  },
  {
   "cell_type": "code",
   "execution_count": 1,
   "id": "75c32e53",
   "metadata": {},
   "outputs": [
    {
     "name": "stdout",
     "output_type": "stream",
     "text": [
      "Requirement already satisfied: gTTS in ./my_env/lib/python3.9/site-packages (2.2.4)\n",
      "Requirement already satisfied: pydub in ./my_env/lib/python3.9/site-packages (0.25.1)\n",
      "Requirement already satisfied: click in ./my_env/lib/python3.9/site-packages (from gTTS) (8.1.2)\n",
      "Requirement already satisfied: six in ./my_env/lib/python3.9/site-packages (from gTTS) (1.16.0)\n",
      "Requirement already satisfied: requests in ./my_env/lib/python3.9/site-packages (from gTTS) (2.27.1)\n",
      "Requirement already satisfied: idna<4,>=2.5 in ./my_env/lib/python3.9/site-packages (from requests->gTTS) (3.3)\n",
      "Requirement already satisfied: charset-normalizer~=2.0.0 in ./my_env/lib/python3.9/site-packages (from requests->gTTS) (2.0.12)\n",
      "Requirement already satisfied: certifi>=2017.4.17 in ./my_env/lib/python3.9/site-packages (from requests->gTTS) (2021.10.8)\n",
      "Requirement already satisfied: urllib3<1.27,>=1.21.1 in ./my_env/lib/python3.9/site-packages (from requests->gTTS) (1.26.9)\n"
     ]
    }
   ],
   "source": [
    "# Essential if not installed\n",
    "!pip install gTTS pydub"
   ]
  },
  {
   "cell_type": "markdown",
   "id": "88790a07",
   "metadata": {},
   "source": [
    "## 1. Import necessary packages ##"
   ]
  },
  {
   "cell_type": "code",
   "execution_count": 1,
   "id": "0b1d5b15",
   "metadata": {},
   "outputs": [],
   "source": [
    "# Essential\n",
    "import cv2 as cv\n",
    "import numpy as np\n",
    "import os\n",
    "import matplotlib.pyplot as plt\n",
    "import mediapipe as mp\n",
    "import sys # to use getsizeof() function\n",
    "import pickle"
   ]
  },
  {
   "cell_type": "markdown",
   "id": "5e250595",
   "metadata": {},
   "source": [
    "## 2. Keypoints using MP Holistic ##"
   ]
  },
  {
   "cell_type": "code",
   "execution_count": 2,
   "id": "0b3d50ae",
   "metadata": {},
   "outputs": [],
   "source": [
    "# Essential\n",
    "mp_holistic = mp.solutions.holistic # holistic model\n",
    "mp_drawing = mp.solutions.drawing_utils # drawing utilities\n",
    "# we use mp_holistic to make our detections and mp_drawing to\n",
    "# draw them"
   ]
  },
  {
   "cell_type": "code",
   "execution_count": 3,
   "id": "f25fa806",
   "metadata": {},
   "outputs": [],
   "source": [
    "# Essential\n",
    "def mediapipe_detection(image,model):\n",
    "    image = cv.cvtColor(image,cv.COLOR_BGR2RGB) # Color conversion from BGR to RGB, since the input from opencv is in the colorspace BGR\n",
    "    image.flags.writeable = False # Image is no longer writable\n",
    "    results = model.process(image) # make the predictions\n",
    "    image.flags.writeable = True # Image is writable\n",
    "    image = cv.cvtColor(image, cv.COLOR_RGB2BGR) # Color space conversion from RGB to BGR for use by opencv as opencv uses BGR\n",
    "    return image, results"
   ]
  },
  {
   "cell_type": "code",
   "execution_count": 4,
   "id": "8cdc47d7",
   "metadata": {},
   "outputs": [],
   "source": [
    "# Essential\n",
    "def draw_styled_landmarks(image, results):\n",
    "    # Draw face connections\n",
    "    mp_drawing.draw_landmarks(image, results.face_landmarks, mp_holistic.FACEMESH_TESSELATION, \n",
    "                             mp_drawing.DrawingSpec(color=(80,110,10), thickness=1, circle_radius=1), \n",
    "                             mp_drawing.DrawingSpec(color=(80,256,121), thickness=1, circle_radius=1)\n",
    "                             ) # the first drawing spec is the landmark drawing spec,\n",
    "    # the second drawing spec is the connection drawing spec\n",
    "    # Draw pose connections\n",
    "    mp_drawing.draw_landmarks(image, results.pose_landmarks, mp_holistic.POSE_CONNECTIONS,\n",
    "                             mp_drawing.DrawingSpec(color=(0, 13, 255), thickness=2, circle_radius=3), \n",
    "                             mp_drawing.DrawingSpec(color=(80,44,121), thickness=2, circle_radius=2)\n",
    "                             ) \n",
    "    # Draw left hand connections\n",
    "    mp_drawing.draw_landmarks(image, results.left_hand_landmarks, mp_holistic.HAND_CONNECTIONS, \n",
    "                             mp_drawing.DrawingSpec(color=(121,22,76), thickness=2, circle_radius=3), \n",
    "                             mp_drawing.DrawingSpec(color=(121,44,250), thickness=2, circle_radius=2)\n",
    "                             ) \n",
    "    # Draw right hand connections  \n",
    "    mp_drawing.draw_landmarks(image, results.right_hand_landmarks, mp_holistic.HAND_CONNECTIONS, \n",
    "                             mp_drawing.DrawingSpec(color=(245,117,66), thickness=2, circle_radius=3), \n",
    "                             mp_drawing.DrawingSpec(color=(245,66,230), thickness=2, circle_radius=2)\n",
    "                             ) "
   ]
  },
  {
   "cell_type": "code",
   "execution_count": 6,
   "id": "d195dc3d",
   "metadata": {},
   "outputs": [
    {
     "name": "stdout",
     "output_type": "stream",
     "text": [
      "Resolution: 640.0 X 480.0\n",
      "FPS: 30.0\n"
     ]
    },
    {
     "name": "stderr",
     "output_type": "stream",
     "text": [
      "INFO: Created TensorFlow Lite XNNPACK delegate for CPU.\n",
      "Warning: Ignoring XDG_SESSION_TYPE=wayland on Gnome. Use QT_QPA_PLATFORM=wayland to run on Wayland anyway.\n"
     ]
    }
   ],
   "source": [
    "# Essential for checking camera connection, press q to close the camera window\n",
    "cap = cv.VideoCapture(1) # try changing this number to 0, 1, 2 if camera does not open, this is the device no.\n",
    "print(\"Resolution: {} X {}\".format(cap.get(cv.CAP_PROP_FRAME_WIDTH), cap.get(cv.CAP_PROP_FRAME_HEIGHT)))\n",
    "print(\"FPS: {}\".format(cap.get(cv.CAP_PROP_FPS)))\n",
    "# Instantiate mediapipe model\n",
    "# we can play around with the kwargs\n",
    "with mp_holistic.Holistic(min_detection_confidence=0.5, min_tracking_confidence= 0.5) as holistic:\n",
    "    while cap.isOpened():\n",
    "        # read feed from camera or video\n",
    "        ret, frame = cap.read()\n",
    "        # make detections\n",
    "        image, results = mediapipe_detection(frame, holistic)\n",
    "        #flipped_image, results = mediapipe_detection(cv.flip(frame, 1), holistic)\n",
    "        # print(results) # uncomment to see what the results look like\n",
    "        \n",
    "        # Draw landmarks\n",
    "        draw_styled_landmarks(image, results)\n",
    "        \n",
    "        # show to screen\n",
    "        cv.imshow('OpenCV Feed', image)\n",
    "\n",
    "        # break gracefully\n",
    "        # print(results) # uncomment to see what the results loon link for explanation\n",
    "        if cv.waitKey(10) & 0xFF == ord('q'): # https://stackoverflow.com/questions/35372700/whats-0xff-for-in-cv2-waitkey1\n",
    "            break\n",
    "    cap.release()\n",
    "    cv.destroyAllWindows()"
   ]
  },
  {
   "cell_type": "markdown",
   "id": "1fff88f4",
   "metadata": {},
   "source": [
    "Run the cell below if the webcab is still active for some reason or if there is some error on running the cell above"
   ]
  },
  {
   "cell_type": "code",
   "execution_count": 35,
   "id": "8ad035cb",
   "metadata": {},
   "outputs": [],
   "source": [
    "cap.release()\n",
    "cv.destroyAllWindows()"
   ]
  },
  {
   "cell_type": "markdown",
   "id": "7536b4bf",
   "metadata": {},
   "source": [
    "The function extract_keypoints() takes the landmarks of each type and flattens them. It also takes care of error handling, i.e., if a particular type of landmark is not present then an array of zeros of the same length is returned. Pose has an extra attribute visibility."
   ]
  },
  {
   "cell_type": "code",
   "execution_count": 5,
   "id": "9b914600",
   "metadata": {},
   "outputs": [],
   "source": [
    "# Essential\n",
    "def extract_keypoints(results):\n",
    "    pose = np.array([[res.x, res.y, res.z, res.visibility] for res in results.pose_landmarks.landmark]).flatten() if results.pose_landmarks else np.zeros(33*4)\n",
    "    face = np.array([[res.x, res.y, res.z] for res in results.face_landmarks.landmark]).flatten() if results.face_landmarks else np.zeros(468*3)\n",
    "    lh = np.array([[res.x, res.y, res.z] for res in results.left_hand_landmarks.landmark]).flatten() if results.left_hand_landmarks else np.zeros(21*3)\n",
    "    rh = np.array([[res.x, res.y, res.z] for res in results.right_hand_landmarks.landmark]).flatten() if results.right_hand_landmarks else np.zeros(21*3)\n",
    "    return np.concatenate([pose, face, lh, rh])"
   ]
  },
  {
   "cell_type": "markdown",
   "id": "8f75e986",
   "metadata": {},
   "source": [
    "## Be careful, run the cell below only when entering the first data ##"
   ]
  },
  {
   "cell_type": "code",
   "execution_count": 10,
   "id": "0c23cb5e",
   "metadata": {},
   "outputs": [],
   "source": [
    "# run this when there is no data available, i.e, you are about to enter the first data, otherwise don't run this\n",
    "actions_vids_no = dict() # keeps track of the number of videos available per action,\n",
    "# so here initially 30 videos are available for each of the three actions\n",
    "# storing the dictionary on disk so that the program doesn't have to count the number of videos per action each \n",
    "# time the program is run\n",
    "try:\n",
    "    actions_file = open('actions_vids_no.pkl', 'wb')\n",
    "    pickle.dump(actions_vids_no, actions_file)\n",
    "    actions_file.close()\n",
    "  \n",
    "except:\n",
    "    print(\"Something went wrong\")"
   ]
  },
  {
   "cell_type": "code",
   "execution_count": 8,
   "id": "ed30fb84",
   "metadata": {},
   "outputs": [],
   "source": [
    "# Path for exported data, numpy arrays\n",
    "DATA_PATH = os.path.join(\"MP_DATA\")"
   ]
  },
  {
   "cell_type": "code",
   "execution_count": 6,
   "id": "b4153a77",
   "metadata": {},
   "outputs": [],
   "source": [
    "# Essential\n",
    "#Videos are going to be 30 frames in length\n",
    "sequence_length = 30"
   ]
  },
  {
   "cell_type": "markdown",
   "id": "4aaa960e",
   "metadata": {},
   "source": [
    "Run the cells below before adding new training data"
   ]
  },
  {
   "cell_type": "code",
   "execution_count": 7,
   "id": "f86fc8b4",
   "metadata": {
    "scrolled": false
   },
   "outputs": [
    {
     "name": "stdout",
     "output_type": "stream",
     "text": [
      "{'hello': 130, 'no action': 90, 'thank you': 175, 'i love you': 140, 'again': 150, 'food': 150, 'me': 170, 'want': 130, 'forget': 140, 'friend': 140, 'please': 185}\n"
     ]
    }
   ],
   "source": [
    "# Essential\n",
    "actions_file= open(\"actions_vids_no.pkl\", \"rb\")\n",
    "actions_vids_no = pickle.load(actions_file)\n",
    "print(actions_vids_no)"
   ]
  },
  {
   "cell_type": "code",
   "execution_count": 87,
   "id": "ba6b2461",
   "metadata": {
    "scrolled": false
   },
   "outputs": [
    {
     "name": "stdout",
     "output_type": "stream",
     "text": [
      "actions_vids_no = {'hello': 120, 'no action': 90, 'thank you': 175, 'i love you': 140, 'again': 150, 'food': 150, 'me': 170, 'want': 130, 'forget': 140, 'friend': 140, 'please': 185} \n",
      "Total = 1590\n",
      "Enter the action for which you want to record sign language : hello\n",
      "Enter the number of sequences (aka videos) you want to record : 10\n",
      "Enter the time you need to reset yourself after each action (default 2000 ms) : \n",
      "{'hello': 130, 'no action': 90, 'thank you': 175, 'i love you': 140, 'again': 150, 'food': 150, 'me': 170, 'want': 130, 'forget': 140, 'friend': 140, 'please': 185} \n",
      "Total = 1600\n"
     ]
    }
   ],
   "source": [
    "# run this cell to enter new training data\n",
    "print(\"actions_vids_no =\", actions_vids_no, \"\\nTotal =\",sum(actions_vids_no.values()))\n",
    "action = input(\"Enter the action for which you want to record sign language : \").lower().strip()\n",
    "if action not in actions_vids_no.keys():\n",
    "    print(\"This is a new action\")\n",
    "no_sequences = int(input(\"Enter the number of sequences (aka videos) you want to record : \"))\n",
    "\n",
    "# making the required directories\n",
    "for sequence in range(no_sequences):\n",
    "    try:\n",
    "        os.makedirs(os.path.join(DATA_PATH, action, str(actions_vids_no.get(action,0)+sequence))) \n",
    "        \"\"\" logic: if no_sequences = 1 and no of videos already present = 30, then next folder should be\n",
    "        30 (since folders start from 0), so actions_vids_no.get(act,0) will return 30 and sequence will be 0\"\"\"\n",
    "    except:\n",
    "        pass\n",
    "\n",
    "\n",
    "waiting_time = input(\"Enter the time you need to reset yourself after each action (default 2000 ms) : \")\n",
    "if(waiting_time == \"\"):\n",
    "    waiting_time = 2000\n",
    "else:\n",
    "    waiting_time = int(waiting_time)\n",
    "cap = cv.VideoCapture(1)\n",
    "# Instantiate mediapipe model\n",
    "# we can play around with the kwargs\n",
    "with mp_holistic.Holistic(min_detection_confidence=0.5, min_tracking_confidence= 0.5) as holistic:\n",
    "    \n",
    "    # Loop through actions\n",
    "    #for action in actions_vids_no.keys():\n",
    "    # only one action here, so no need to loop through actions\n",
    "    # Loop through sequences aka videos\n",
    "    for sequence in range(actions_vids_no.get(action,0), actions_vids_no.get(action,0) + no_sequences):\n",
    "        # Loop through sequence length aka video length:\n",
    "        for frame_num in range(sequence_length):\n",
    "\n",
    "            # read feed from camera or video\n",
    "            ret, frame = cap.read()\n",
    "            # make detections\n",
    "            image, results = mediapipe_detection(frame, holistic)\n",
    "\n",
    "            # print(results) # uncomment to see what the results look like\n",
    "\n",
    "            # Draw landmarks\n",
    "            draw_styled_landmarks(image, results)\n",
    "\n",
    "            # Apply wait logic\n",
    "            if frame_num == 0: \n",
    "                cv.putText(image, 'STARTING COLLECTION, GET READY', (120,200), \n",
    "                           cv.FONT_HERSHEY_SIMPLEX, 1, (0,255, 0), 4, cv.LINE_AA)\n",
    "                cv.putText(image, 'Collecting frames for {} Video Number {}'.format(action, sequence), (15,12), \n",
    "                           cv.FONT_HERSHEY_SIMPLEX, 0.5, (0, 0, 255), 1, cv.LINE_AA)\n",
    "                # Show to screen\n",
    "                cv.imshow('OpenCV Feed', image)\n",
    "                cv.waitKey(waiting_time)\n",
    "            else: \n",
    "                cv.putText(image, 'Collecting frames for {} Video Number {}'.format(action, sequence), (15,12), \n",
    "                           cv.FONT_HERSHEY_SIMPLEX, 0.5, (0, 0, 255), 1, cv.LINE_AA)\n",
    "                # Show to screen\n",
    "                cv.imshow('OpenCV Feed', image)\n",
    "\n",
    "            # NEW Export keypoints\n",
    "            keypoints = extract_keypoints(results)\n",
    "            npy_path = os.path.join(DATA_PATH, action, str(sequence), str(frame_num))\n",
    "            np.save(npy_path, keypoints)\n",
    "\n",
    "            # Break gracefully, (if this statement is essential for closing each imshow window after 10 ms, thus allowing the program to display the next video frame)\n",
    "            if cv.waitKey(10) & 0xFF == ord('q'):\n",
    "                break\n",
    "    actions_vids_no[action] = actions_vids_no.get(action,0) + no_sequences\n",
    "    print(actions_vids_no, \"\\nTotal =\",sum(actions_vids_no.values()))\n",
    "    cap.release()\n",
    "    cv.destroyAllWindows()"
   ]
  },
  {
   "cell_type": "markdown",
   "id": "5399986c",
   "metadata": {},
   "source": [
    "No need to run the cell below"
   ]
  },
  {
   "cell_type": "code",
   "execution_count": 88,
   "id": "068cf1b7",
   "metadata": {},
   "outputs": [],
   "source": [
    "#run this after entering new data\n",
    "try:\n",
    "    actions_file = open('actions_vids_no.pkl', 'wb')\n",
    "    pickle.dump(actions_vids_no, actions_file)\n",
    "    actions_file.close()\n",
    "  \n",
    "except:\n",
    "    print(\"Something went wrong\")"
   ]
  },
  {
   "cell_type": "code",
   "execution_count": 11,
   "id": "18e30c2a",
   "metadata": {
    "scrolled": true
   },
   "outputs": [
    {
     "name": "stderr",
     "output_type": "stream",
     "text": [
      "2022-04-16 00:31:23.723661: W tensorflow/stream_executor/platform/default/dso_loader.cc:64] Could not load dynamic library 'libcudart.so.11.0'; dlerror: libcudart.so.11.0: cannot open shared object file: No such file or directory; LD_LIBRARY_PATH: /home/soumadeep/Documents/Sign language project/my_env/lib/python3.9/site-packages/cv2/../../lib64:\n",
      "2022-04-16 00:31:23.723692: I tensorflow/stream_executor/cuda/cudart_stub.cc:29] Ignore above cudart dlerror if you do not have a GPU set up on your machine.\n"
     ]
    }
   ],
   "source": [
    "from sklearn.model_selection import train_test_split\n",
    "from tensorflow.keras.utils import to_categorical"
   ]
  },
  {
   "cell_type": "code",
   "execution_count": 12,
   "id": "eebe5706",
   "metadata": {},
   "outputs": [],
   "source": [
    "label_map = {label:num for num, label in enumerate(actions_vids_no.keys())}"
   ]
  },
  {
   "cell_type": "code",
   "execution_count": 13,
   "id": "5d42e4ba",
   "metadata": {},
   "outputs": [
    {
     "data": {
      "text/plain": [
       "{'hello': 0,\n",
       " 'no action': 1,\n",
       " 'thank you': 2,\n",
       " 'i love you': 3,\n",
       " 'again': 4,\n",
       " 'food': 5,\n",
       " 'me': 6,\n",
       " 'want': 7,\n",
       " 'forget': 8,\n",
       " 'friend': 9,\n",
       " 'please': 10}"
      ]
     },
     "execution_count": 13,
     "metadata": {},
     "output_type": "execute_result"
    }
   ],
   "source": [
    "label_map"
   ]
  },
  {
   "cell_type": "code",
   "execution_count": 14,
   "id": "2e774fc2",
   "metadata": {},
   "outputs": [],
   "source": [
    "# New essential for training new data, this loads all the available training data into numpy array\n",
    "sequences, labels = [], []\n",
    "for action in actions_vids_no.keys():\n",
    "    for sequence in range(actions_vids_no[action]):\n",
    "        window = []\n",
    "        for frame_num in range(sequence_length):\n",
    "            res = np.load(os.path.join(DATA_PATH, action, str(sequence), \"{}.npy\".format(frame_num)))\n",
    "            window.append(res)\n",
    "        sequences.append(window)\n",
    "        labels.append(label_map[action])"
   ]
  },
  {
   "cell_type": "code",
   "execution_count": 15,
   "id": "14a7f355",
   "metadata": {
    "scrolled": true
   },
   "outputs": [
    {
     "data": {
      "text/plain": [
       "{'hello': 130,\n",
       " 'no action': 90,\n",
       " 'thank you': 175,\n",
       " 'i love you': 140,\n",
       " 'again': 150,\n",
       " 'food': 150,\n",
       " 'me': 170,\n",
       " 'want': 130,\n",
       " 'forget': 140,\n",
       " 'friend': 140,\n",
       " 'please': 185}"
      ]
     },
     "execution_count": 15,
     "metadata": {},
     "output_type": "execute_result"
    }
   ],
   "source": [
    "actions_vids_no"
   ]
  },
  {
   "cell_type": "markdown",
   "id": "06c81b2d",
   "metadata": {},
   "source": [
    "Saving whole dataset into two numpy arrays to help in uploading to google drive in order to train the model in google colab"
   ]
  },
  {
   "cell_type": "code",
   "execution_count": 94,
   "id": "6b356b65",
   "metadata": {},
   "outputs": [],
   "source": [
    "npy_path = os.path.join(\"CombinedDatasetX\")\n",
    "np.save(npy_path, np.array(sequences))\n",
    "npy_path = os.path.join(\"CombinedDatasetY\")\n",
    "np.save(npy_path, np.array(labels))"
   ]
  },
  {
   "cell_type": "code",
   "execution_count": 95,
   "id": "aad2102d",
   "metadata": {
    "scrolled": true
   },
   "outputs": [
    {
     "data": {
      "text/plain": [
       "(1600, 30, 1662)"
      ]
     },
     "execution_count": 95,
     "metadata": {},
     "output_type": "execute_result"
    }
   ],
   "source": [
    "np.array(sequences).shape"
   ]
  },
  {
   "cell_type": "code",
   "execution_count": 96,
   "id": "4be22ec3",
   "metadata": {},
   "outputs": [
    {
     "data": {
      "text/plain": [
       "(1600,)"
      ]
     },
     "execution_count": 96,
     "metadata": {},
     "output_type": "execute_result"
    }
   ],
   "source": [
    "np.array(labels).shape"
   ]
  },
  {
   "cell_type": "code",
   "execution_count": 97,
   "id": "53ccd751",
   "metadata": {},
   "outputs": [
    {
     "data": {
      "text/plain": [
       "14360"
      ]
     },
     "execution_count": 97,
     "metadata": {},
     "output_type": "execute_result"
    }
   ],
   "source": [
    "sys.getsizeof(sequences)"
   ]
  },
  {
   "cell_type": "code",
   "execution_count": 98,
   "id": "9d20239a",
   "metadata": {},
   "outputs": [],
   "source": [
    "X = np.array(sequences)"
   ]
  },
  {
   "cell_type": "code",
   "execution_count": 99,
   "id": "03ff7035",
   "metadata": {},
   "outputs": [
    {
     "data": {
      "text/plain": [
       "(1600, 30, 1662)"
      ]
     },
     "execution_count": 99,
     "metadata": {},
     "output_type": "execute_result"
    }
   ],
   "source": [
    "X.shape"
   ]
  },
  {
   "cell_type": "code",
   "execution_count": 100,
   "id": "44bff933",
   "metadata": {},
   "outputs": [
    {
     "data": {
      "text/plain": [
       "638208144"
      ]
     },
     "execution_count": 100,
     "metadata": {},
     "output_type": "execute_result"
    }
   ],
   "source": [
    "sys.getsizeof(X)"
   ]
  },
  {
   "cell_type": "code",
   "execution_count": 101,
   "id": "ff5816ad",
   "metadata": {},
   "outputs": [],
   "source": [
    "y = to_categorical(labels).astype(int)"
   ]
  },
  {
   "cell_type": "code",
   "execution_count": 110,
   "id": "cd1ffa09",
   "metadata": {},
   "outputs": [],
   "source": [
    "X_train, X_test, y_train, y_test = train_test_split(X, y, test_size=0.0625)"
   ]
  },
  {
   "cell_type": "code",
   "execution_count": 111,
   "id": "0a1b35e0",
   "metadata": {},
   "outputs": [
    {
     "data": {
      "text/plain": [
       "(100, 11)"
      ]
     },
     "execution_count": 111,
     "metadata": {},
     "output_type": "execute_result"
    }
   ],
   "source": [
    "y_test.shape"
   ]
  },
  {
   "cell_type": "code",
   "execution_count": 112,
   "id": "ed7c5538",
   "metadata": {},
   "outputs": [
    {
     "data": {
      "text/plain": [
       "(1500, 11)"
      ]
     },
     "execution_count": 112,
     "metadata": {},
     "output_type": "execute_result"
    }
   ],
   "source": [
    "y_train.shape"
   ]
  },
  {
   "cell_type": "code",
   "execution_count": 113,
   "id": "89fc0276",
   "metadata": {},
   "outputs": [
    {
     "data": {
      "text/plain": [
       "(1500, 30, 1662)"
      ]
     },
     "execution_count": 113,
     "metadata": {},
     "output_type": "execute_result"
    }
   ],
   "source": [
    "X_train.shape"
   ]
  },
  {
   "cell_type": "code",
   "execution_count": 25,
   "id": "d478d671",
   "metadata": {},
   "outputs": [
    {
     "data": {
      "text/plain": [
       "array([[0, 0, 0, ..., 0, 0, 0],\n",
       "       [0, 0, 0, ..., 1, 0, 0],\n",
       "       [0, 0, 0, ..., 0, 0, 0],\n",
       "       ...,\n",
       "       [0, 0, 1, ..., 0, 0, 0],\n",
       "       [0, 0, 0, ..., 0, 1, 0],\n",
       "       [0, 0, 0, ..., 0, 0, 0]])"
      ]
     },
     "execution_count": 25,
     "metadata": {},
     "output_type": "execute_result"
    }
   ],
   "source": [
    "y_train"
   ]
  },
  {
   "cell_type": "markdown",
   "id": "3fc94cb4",
   "metadata": {},
   "source": [
    "## 7. Build and train LSTM model ##"
   ]
  },
  {
   "cell_type": "code",
   "execution_count": 8,
   "id": "4e1bd9cc",
   "metadata": {},
   "outputs": [
    {
     "name": "stderr",
     "output_type": "stream",
     "text": [
      "2022-04-27 09:28:36.866090: W tensorflow/stream_executor/platform/default/dso_loader.cc:64] Could not load dynamic library 'libcudart.so.11.0'; dlerror: libcudart.so.11.0: cannot open shared object file: No such file or directory; LD_LIBRARY_PATH: /home/soumadeep/Documents/Sign language project/my_env/lib/python3.10/site-packages/cv2/../../lib64:\n",
      "2022-04-27 09:28:36.866159: I tensorflow/stream_executor/cuda/cudart_stub.cc:29] Ignore above cudart dlerror if you do not have a GPU set up on your machine.\n"
     ]
    }
   ],
   "source": [
    "# Essential\n",
    "from tensorflow.keras.models import Sequential\n",
    "from tensorflow.keras.layers import LSTM, Dense, Input, BatchNormalization, LeakyReLU, GRU\n",
    "from tensorflow.keras.callbacks import TensorBoard\n",
    "import tensorflow as tf"
   ]
  },
  {
   "cell_type": "code",
   "execution_count": 9,
   "id": "4677e58a",
   "metadata": {},
   "outputs": [],
   "source": [
    "# Essential\n",
    "log_dir = os.path.join('Logs')\n",
    "tb_callback = TensorBoard(log_dir=log_dir)"
   ]
  },
  {
   "cell_type": "code",
   "execution_count": 10,
   "id": "9a2a9114",
   "metadata": {},
   "outputs": [
    {
     "name": "stderr",
     "output_type": "stream",
     "text": [
      "2022-04-27 09:28:40.434374: W tensorflow/stream_executor/platform/default/dso_loader.cc:64] Could not load dynamic library 'libcuda.so.1'; dlerror: libcuda.so.1: cannot open shared object file: No such file or directory; LD_LIBRARY_PATH: /home/soumadeep/Documents/Sign language project/my_env/lib/python3.10/site-packages/cv2/../../lib64:\n",
      "2022-04-27 09:28:40.434494: W tensorflow/stream_executor/cuda/cuda_driver.cc:269] failed call to cuInit: UNKNOWN ERROR (303)\n",
      "2022-04-27 09:28:40.434539: I tensorflow/stream_executor/cuda/cuda_diagnostics.cc:156] kernel driver does not appear to be running on this host (soumadeep-HP-Laptop-15s-eq0xxx): /proc/driver/nvidia/version does not exist\n",
      "2022-04-27 09:28:40.437885: I tensorflow/core/platform/cpu_feature_guard.cc:151] This TensorFlow binary is optimized with oneAPI Deep Neural Network Library (oneDNN) to use the following CPU instructions in performance-critical operations:  AVX2 FMA\n",
      "To enable them in other operations, rebuild TensorFlow with the appropriate compiler flags.\n"
     ]
    }
   ],
   "source": [
    "# Essential\n",
    "model4 = Sequential()\n",
    "#model.add(Input(shape=(30,1662)))\n",
    "model4.add(LSTM(64, return_sequences=False, activation='tanh', input_shape=(30, 1662), kernel_regularizer=tf.keras.regularizers.L2(l2=0.04), recurrent_regularizer=tf.keras.regularizers.L2(l2=0.01)))\n",
    "#model.add(LSTM(128, return_sequences=False, activation='tanh', kernel_regularizer=tf.keras.regularizers.L2(l2=0.08), recurrent_regularizer = tf.keras.regularizers.L2(l2=0.02)))\n",
    "#model.add(LSTM(64, return_sequences=False, activation='tanh'))\n",
    "model4.add(Dense(64, kernel_regularizer=tf.keras.regularizers.L2(l2=0.02)))\n",
    "model4.add(LeakyReLU())\n",
    "model4.add(Dense(32, kernel_regularizer=tf.keras.regularizers.L2(l2=0.02)))\n",
    "model4.add(LeakyReLU())\n",
    "model4.add(Dense(len(actions_vids_no.keys()), activation='softmax'))"
   ]
  },
  {
   "cell_type": "code",
   "execution_count": 11,
   "id": "e6b9ba78",
   "metadata": {},
   "outputs": [
    {
     "name": "stdout",
     "output_type": "stream",
     "text": [
      "Model: \"sequential\"\n",
      "_________________________________________________________________\n",
      " Layer (type)                Output Shape              Param #   \n",
      "=================================================================\n",
      " lstm (LSTM)                 (None, 64)                442112    \n",
      "                                                                 \n",
      " dense (Dense)               (None, 64)                4160      \n",
      "                                                                 \n",
      " leaky_re_lu (LeakyReLU)     (None, 64)                0         \n",
      "                                                                 \n",
      " dense_1 (Dense)             (None, 32)                2080      \n",
      "                                                                 \n",
      " leaky_re_lu_1 (LeakyReLU)   (None, 32)                0         \n",
      "                                                                 \n",
      " dense_2 (Dense)             (None, 11)                363       \n",
      "                                                                 \n",
      "=================================================================\n",
      "Total params: 448,715\n",
      "Trainable params: 448,715\n",
      "Non-trainable params: 0\n",
      "_________________________________________________________________\n"
     ]
    }
   ],
   "source": [
    "model4.summary()"
   ]
  },
  {
   "cell_type": "code",
   "execution_count": 12,
   "id": "4d4f16ec",
   "metadata": {},
   "outputs": [],
   "source": [
    "# Essential\n",
    "# learning rate decay, used it because the loss was abruptly increasing while fitting the model, which\n",
    "# meant that learning rate was note small enough\n",
    "lr_schedule4 = tf.keras.optimizers.schedules.InverseTimeDecay(\n",
    "    initial_learning_rate= 0.002 ,\n",
    "    decay_steps=8,\n",
    "    decay_rate=0.5,\n",
    "    staircase=False)"
   ]
  },
  {
   "cell_type": "code",
   "execution_count": 13,
   "id": "4d5a2483",
   "metadata": {},
   "outputs": [],
   "source": [
    "# Essential\n",
    "model4.compile(optimizer= tf.optimizers.Adam(learning_rate=lr_schedule4), loss='categorical_crossentropy', metrics=['categorical_accuracy'])"
   ]
  },
  {
   "cell_type": "code",
   "execution_count": 14,
   "id": "d45bb162",
   "metadata": {},
   "outputs": [
    {
     "ename": "NameError",
     "evalue": "name 'X_train' is not defined",
     "output_type": "error",
     "traceback": [
      "\u001b[0;31m---------------------------------------------------------------------------\u001b[0m",
      "\u001b[0;31mNameError\u001b[0m                                 Traceback (most recent call last)",
      "Input \u001b[0;32mIn [14]\u001b[0m, in \u001b[0;36m<cell line: 1>\u001b[0;34m()\u001b[0m\n\u001b[0;32m----> 1\u001b[0m history \u001b[38;5;241m=\u001b[39m model4\u001b[38;5;241m.\u001b[39mfit(\u001b[43mX_train\u001b[49m, y_train, epochs\u001b[38;5;241m=\u001b[39m\u001b[38;5;241m1000\u001b[39m, batch_size \u001b[38;5;241m=\u001b[39m \u001b[38;5;241m64\u001b[39m)\n",
      "\u001b[0;31mNameError\u001b[0m: name 'X_train' is not defined"
     ]
    }
   ],
   "source": [
    "history = model4.fit(X_train, y_train, epochs=150, batch_size = 64)"
   ]
  },
  {
   "cell_type": "code",
   "execution_count": 15,
   "id": "002e5777",
   "metadata": {},
   "outputs": [],
   "source": [
    "# Essential\n",
    "model4.load_weights(\"action4_1500_2.h5\")"
   ]
  },
  {
   "cell_type": "markdown",
   "id": "2273697d",
   "metadata": {},
   "source": [
    "# Final 2 models which are discussed in project report #"
   ]
  },
  {
   "cell_type": "code",
   "execution_count": 16,
   "id": "49468d7b",
   "metadata": {},
   "outputs": [],
   "source": [
    "# Essential\n",
    "model_LSTM_Batch_Norm = Sequential(\n",
    "    [\n",
    "        LSTM(64, return_sequences=False, activation='tanh', input_shape=(30, 1662), kernel_regularizer=tf.keras.regularizers.L2(l2=0.044), recurrent_regularizer=tf.keras.regularizers.L2(l2=0.014)),\n",
    "        Dense(64, kernel_regularizer=tf.keras.regularizers.L2(l2=0.027)),\n",
    "        BatchNormalization(),\n",
    "        LeakyReLU(),\n",
    "        Dense(32, kernel_regularizer=tf.keras.regularizers.L2(l2=0.027)),\n",
    "        BatchNormalization(),\n",
    "        LeakyReLU(),\n",
    "        Dense(len(actions_vids_no.keys()), activation='softmax')\n",
    "    ]\n",
    ")"
   ]
  },
  {
   "cell_type": "code",
   "execution_count": 17,
   "id": "c4095242",
   "metadata": {},
   "outputs": [],
   "source": [
    "# Essential\n",
    "model_GRU_Batch_Norm = Sequential(\n",
    "    [\n",
    "        GRU(64, return_sequences=False, activation='tanh', input_shape=(30, 1662), kernel_regularizer=tf.keras.regularizers.L2(l2=0.044), recurrent_regularizer=tf.keras.regularizers.L2(l2=0.014)),\n",
    "        Dense(64, kernel_regularizer=tf.keras.regularizers.L2(l2=0.027)),\n",
    "        BatchNormalization(),\n",
    "        LeakyReLU(),\n",
    "        Dense(32, kernel_regularizer=tf.keras.regularizers.L2(l2=0.027)),\n",
    "        BatchNormalization(),\n",
    "        LeakyReLU(),\n",
    "        Dense(len(actions_vids_no.keys()), activation='softmax')\n",
    "    ]\n",
    ")"
   ]
  },
  {
   "cell_type": "code",
   "execution_count": 18,
   "id": "abdd7d25",
   "metadata": {},
   "outputs": [],
   "source": [
    "# Essential\n",
    "# learning rate decay, used it because the loss was abruptly increasing while fitting the model, which\n",
    "# meant that learning rate was note small enough\n",
    "# PS. The problem was alleviated more after implementing batch normalization\n",
    "lr_schedule = tf.keras.optimizers.schedules.InverseTimeDecay(\n",
    "    initial_learning_rate= 0.002 ,\n",
    "    decay_steps=8,\n",
    "    decay_rate=0.5,\n",
    "    staircase=False)"
   ]
  },
  {
   "cell_type": "code",
   "execution_count": 19,
   "id": "542c76ef",
   "metadata": {},
   "outputs": [],
   "source": [
    "# Essential\n",
    "model_LSTM_Batch_Norm.compile(optimizer= tf.optimizers.Adam(learning_rate=lr_schedule), loss='categorical_crossentropy', metrics=['categorical_accuracy'])"
   ]
  },
  {
   "cell_type": "code",
   "execution_count": 20,
   "id": "a6d02629",
   "metadata": {},
   "outputs": [],
   "source": [
    "# Essential\n",
    "model_GRU_Batch_Norm.compile(optimizer= tf.optimizers.Adam(learning_rate=lr_schedule), loss='categorical_crossentropy', metrics=['categorical_accuracy'])"
   ]
  },
  {
   "cell_type": "code",
   "execution_count": 21,
   "id": "5c6affa2",
   "metadata": {},
   "outputs": [
    {
     "name": "stdout",
     "output_type": "stream",
     "text": [
      "Model: \"sequential_1\"\n",
      "_________________________________________________________________\n",
      " Layer (type)                Output Shape              Param #   \n",
      "=================================================================\n",
      " lstm_1 (LSTM)               (None, 64)                442112    \n",
      "                                                                 \n",
      " dense_3 (Dense)             (None, 64)                4160      \n",
      "                                                                 \n",
      " batch_normalization (BatchN  (None, 64)               256       \n",
      " ormalization)                                                   \n",
      "                                                                 \n",
      " leaky_re_lu_2 (LeakyReLU)   (None, 64)                0         \n",
      "                                                                 \n",
      " dense_4 (Dense)             (None, 32)                2080      \n",
      "                                                                 \n",
      " batch_normalization_1 (Batc  (None, 32)               128       \n",
      " hNormalization)                                                 \n",
      "                                                                 \n",
      " leaky_re_lu_3 (LeakyReLU)   (None, 32)                0         \n",
      "                                                                 \n",
      " dense_5 (Dense)             (None, 11)                363       \n",
      "                                                                 \n",
      "=================================================================\n",
      "Total params: 449,099\n",
      "Trainable params: 448,907\n",
      "Non-trainable params: 192\n",
      "_________________________________________________________________\n"
     ]
    }
   ],
   "source": [
    "model_LSTM_Batch_Norm.summary()"
   ]
  },
  {
   "cell_type": "code",
   "execution_count": 22,
   "id": "636ef05e",
   "metadata": {},
   "outputs": [
    {
     "name": "stdout",
     "output_type": "stream",
     "text": [
      "Model: \"sequential_2\"\n",
      "_________________________________________________________________\n",
      " Layer (type)                Output Shape              Param #   \n",
      "=================================================================\n",
      " gru (GRU)                   (None, 64)                331776    \n",
      "                                                                 \n",
      " dense_6 (Dense)             (None, 64)                4160      \n",
      "                                                                 \n",
      " batch_normalization_2 (Batc  (None, 64)               256       \n",
      " hNormalization)                                                 \n",
      "                                                                 \n",
      " leaky_re_lu_4 (LeakyReLU)   (None, 64)                0         \n",
      "                                                                 \n",
      " dense_7 (Dense)             (None, 32)                2080      \n",
      "                                                                 \n",
      " batch_normalization_3 (Batc  (None, 32)               128       \n",
      " hNormalization)                                                 \n",
      "                                                                 \n",
      " leaky_re_lu_5 (LeakyReLU)   (None, 32)                0         \n",
      "                                                                 \n",
      " dense_8 (Dense)             (None, 11)                363       \n",
      "                                                                 \n",
      "=================================================================\n",
      "Total params: 338,763\n",
      "Trainable params: 338,571\n",
      "Non-trainable params: 192\n",
      "_________________________________________________________________\n"
     ]
    }
   ],
   "source": [
    "model_GRU_Batch_Norm.summary()"
   ]
  }
 ],
 "metadata": {
  "kernelspec": {
   "display_name": "Python 3 (ipykernel)",
   "language": "python",
   "name": "python3"
  },
  "language_info": {
   "codemirror_mode": {
    "name": "ipython",
    "version": 3
   },
   "file_extension": ".py",
   "mimetype": "text/x-python",
   "name": "python",
   "nbconvert_exporter": "python",
   "pygments_lexer": "ipython3",
   "version": "3.10.4"
  }
 },
 "nbformat": 4,
 "nbformat_minor": 5
}
